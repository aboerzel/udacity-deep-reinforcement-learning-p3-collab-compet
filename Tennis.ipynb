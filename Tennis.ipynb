{
 "cells": [
  {
   "cell_type": "markdown",
   "metadata": {},
   "source": [
    "# Collaboration and Competition\n",
    "\n",
    "---\n",
    "\n",
    "In this notebook, you will learn how to use the Unity ML-Agents environment for the third project of the [Deep Reinforcement Learning Nanodegree](https://www.udacity.com/course/deep-reinforcement-learning-nanodegree--nd893) program.\n",
    "\n",
    "### 1. Start the Environment\n",
    "\n",
    "We begin by importing the necessary packages.  If the code cell below returns an error, please revisit the project instructions to double-check that you have installed [Unity ML-Agents](https://github.com/Unity-Technologies/ml-agents/blob/master/docs/Installation.md) and [NumPy](http://www.numpy.org/)."
   ]
  },
  {
   "cell_type": "code",
   "execution_count": 1,
   "metadata": {},
   "outputs": [],
   "source": [
    "import os\n",
    "import torch\n",
    "import requests, zipfile, io\n",
    "import numpy as np\n",
    "import matplotlib.pyplot as plt\n",
    "\n",
    "from unityagents import UnityEnvironment\n",
    "from collections import deque\n",
    "from torchviz import make_dot, make_dot_from_trace\n",
    "from ddpg_agent import Agent\n",
    "from hyperparameters import *\n",
    "\n",
    "%matplotlib inline"
   ]
  },
  {
   "cell_type": "markdown",
   "metadata": {},
   "source": [
    "Download the Unity environment depending on your operating system."
   ]
  },
  {
   "cell_type": "code",
   "execution_count": 2,
   "metadata": {},
   "outputs": [
    {
     "name": "stdout",
     "output_type": "stream",
     "text": [
      "Environment: Tennis_Windows_x86_64/Tennis.exe\n"
     ]
    }
   ],
   "source": [
    "## Choose your operating system:\n",
    "#      mac\n",
    "#      windows_x86\n",
    "#      windows_x86_64\n",
    "#      linux_x86\n",
    "#      linux_x86_64\n",
    "os_name = \"windows_x86_64\"\n",
    "\n",
    "os_env_dict = {\n",
    "    \"mac\": [\"https://s3-us-west-1.amazonaws.com/udacity-drlnd/P3/Tennis/Tennis.app.zip\", \"Tennis.app\"],\n",
    "    \"windows_x86\": [\"https://s3-us-west-1.amazonaws.com/udacity-drlnd/P3/Tennis/Tennis_Windows_x86.zip\", \"Tennis_Windows_x86/Tennis.exe\"],\n",
    "    \"windows_x86_64\": [\"https://s3-us-west-1.amazonaws.com/udacity-drlnd/P3/Tennis/Tennis_Windows_x86_64.zip\", \"Tennis_Windows_x86_64/Tennis.exe\"],\n",
    "    \"linux_x86\": [\"https://s3-us-west-1.amazonaws.com/udacity-drlnd/P3/Tennis/Tennis_Linux.zip\", \"Tennis_Linux/Tennis.x86\"],\n",
    "    \"linux_x86_64\": [\"https://s3-us-west-1.amazonaws.com/udacity-drlnd/P3/Tennis/Tennis_Linux.zip\", \"Tennis_Linux/Tennis.x86_64\"]\n",
    "}\n",
    "\n",
    "def download_environment(os_name):\n",
    "    environment_path = os_env_dict[os_name][1]\n",
    "    if not os.access(environment_path, os.F_OK):\n",
    "        url = os_env_dict[os_name][0]\n",
    "        file = url.split('/')[-1]\n",
    "        r = requests.get(url)\n",
    "        z = zipfile.ZipFile(io.BytesIO(r.content))\n",
    "        z.extractall()    \n",
    "    return environment_path\n",
    "\n",
    "environment_path = download_environment(os_name)\n",
    "print(\"Environment: {}\".format(environment_path))\n",
    "\n",
    "# output folder for trained model weigths\n",
    "MODEL_DIR = 'model'\n",
    "os.makedirs(MODEL_DIR, exist_ok=True)\n",
    "\n",
    "# output folder for network architecture images\n",
    "os.makedirs(\"resources\", exist_ok=True)"
   ]
  },
  {
   "cell_type": "markdown",
   "metadata": {},
   "source": [
    "Start the environment"
   ]
  },
  {
   "cell_type": "code",
   "execution_count": 3,
   "metadata": {},
   "outputs": [
    {
     "name": "stderr",
     "output_type": "stream",
     "text": [
      "INFO:unityagents:\n",
      "'Academy' started successfully!\n",
      "Unity Academy name: Academy\n",
      "        Number of Brains: 1\n",
      "        Number of External Brains : 1\n",
      "        Lesson number : 0\n",
      "        Reset Parameters :\n",
      "\t\t\n",
      "Unity brain name: TennisBrain\n",
      "        Number of Visual Observations (per agent): 0\n",
      "        Vector Observation space type: continuous\n",
      "        Vector Observation space size (per agent): 8\n",
      "        Number of stacked Vector Observation: 3\n",
      "        Vector Action space type: continuous\n",
      "        Vector Action space size (per agent): 2\n",
      "        Vector Action descriptions: , \n"
     ]
    }
   ],
   "source": [
    "env = UnityEnvironment(file_name=environment_path)"
   ]
  },
  {
   "cell_type": "markdown",
   "metadata": {},
   "source": [
    "Environments contain **_brains_** which are responsible for deciding the actions of their associated agents. Here we check for the first brain available, and set it as the default brain we will be controlling from Python."
   ]
  },
  {
   "cell_type": "code",
   "execution_count": 4,
   "metadata": {},
   "outputs": [],
   "source": [
    "# get the default brain\n",
    "brain_name = env.brain_names[0]\n",
    "brain = env.brains[brain_name]"
   ]
  },
  {
   "cell_type": "markdown",
   "metadata": {},
   "source": [
    "### 2. Examine the State and Action Spaces\n",
    "\n",
    "In this environment, two agents control rackets to bounce a ball over a net. If an agent hits the ball over the net, it receives a reward of +0.1.  If an agent lets a ball hit the ground or hits the ball out of bounds, it receives a reward of -0.01.  Thus, the goal of each agent is to keep the ball in play.\n",
    "\n",
    "The observation space consists of 8 variables corresponding to the position and velocity of the ball and racket. Two continuous actions are available, corresponding to movement toward (or away from) the net, and jumping. \n",
    "\n",
    "Run the code cell below to print some information about the environment."
   ]
  },
  {
   "cell_type": "code",
   "execution_count": 5,
   "metadata": {},
   "outputs": [
    {
     "name": "stdout",
     "output_type": "stream",
     "text": [
      "Number of agents: 2\n",
      "Size of each action: 2\n",
      "There are 2 agents. Each observes a state with length: 24\n",
      "The state for the first agent looks like: [ 0.          0.          0.          0.          0.          0.\n",
      "  0.          0.          0.          0.          0.          0.\n",
      "  0.          0.          0.          0.         -6.65278625 -1.5\n",
      " -0.          0.          6.83172083  6.         -0.          0.        ]\n"
     ]
    }
   ],
   "source": [
    "# reset the environment\n",
    "env_info = env.reset(train_mode=True)[brain_name]\n",
    "\n",
    "# number of agents \n",
    "num_agents = len(env_info.agents)\n",
    "print('Number of agents:', num_agents)\n",
    "\n",
    "# size of each action\n",
    "action_size = brain.vector_action_space_size\n",
    "print('Size of each action:', action_size)\n",
    "\n",
    "# examine the state space \n",
    "states = env_info.vector_observations\n",
    "state_size = states.shape[1]\n",
    "print('There are {} agents. Each observes a state with length: {}'.format(states.shape[0], state_size))\n",
    "print('The state for the first agent looks like:', states[0])"
   ]
  },
  {
   "cell_type": "code",
   "execution_count": 6,
   "metadata": {},
   "outputs": [],
   "source": [
    "agent_1 = Agent(state_size=state_size, action_size=action_size, random_seed=10)\n",
    "agent_2 = Agent(state_size=state_size, action_size=action_size, random_seed=10)"
   ]
  },
  {
   "cell_type": "code",
   "execution_count": null,
   "metadata": {},
   "outputs": [
    {
     "name": "stdout",
     "output_type": "stream",
     "text": [
      "Episode 35\tMax Score: -0.00\tAverage Score: -0.00\tBest Score: 0.01"
     ]
    }
   ],
   "source": [
    "TARGET_SCORE = 1.0  # sloved score is 0.5\n",
    "\n",
    "print_every = 100\n",
    "episode_scores = deque(maxlen=print_every)\n",
    "scores = []\n",
    "avg_scores = []\n",
    "best_avg_score = 0\n",
    "\n",
    "for i_episode in range(1, EPISODES+1):\n",
    "    env_info = env.reset(train_mode=True)[brain_name]  # reset the unity environment    \n",
    "    states = env_info.vector_observations              # get initial state\n",
    "\n",
    "    # reset the agents\n",
    "    agent_1.reset()\n",
    "    agent_2.reset()\n",
    "\n",
    "    agent_scores = np.zeros(num_agents) # moving average over 100 episodes and over all agents\n",
    "\n",
    "    while True:\n",
    "        # determine actions for the unity agents from current sate, using noise for exploration\n",
    "        actions_1 = agent_1.act(states[0], add_noise=True)\n",
    "        actions_2 = agent_2.act(states[1], add_noise=True)\n",
    "\n",
    "        # send the actions to the environment\n",
    "        actions = np.concatenate((actions_1, actions_2), axis=0)\n",
    "        actions = np.reshape(actions, (1, 4))\n",
    "        env_info = env.step(actions)[brain_name]\n",
    "\n",
    "        next_states = env_info.vector_observations  # get the next states\n",
    "        rewards = env_info.rewards                  # get the rewards\n",
    "        dones = env_info.local_done                 # see if episode has finished\n",
    "\n",
    "        # Send (S, A, R, S') info to the training agents for replay buffer (memory) and network updates\n",
    "        agent_1.step(states[0], actions_1, rewards[0], next_states[0], dones[0])\n",
    "        agent_2.step(states[1], actions_2, rewards[1], next_states[1], dones[1])\n",
    "\n",
    "        states = next_states\n",
    "        agent_scores += rewards\n",
    "        if np.any(dones):\n",
    "            break\n",
    "\n",
    "    # calculate and print results\n",
    "    episode_score = np.mean(agent_scores)    \n",
    "    episode_scores.append(episode_score)\n",
    "    scores.append(episode_score)\n",
    "    average_score = np.mean(episode_scores)\n",
    "    avg_scores.append(average_score)\n",
    "\n",
    "    print('\\rEpisode {}\\tMax Score: {:.2f}\\tAverage Score: {:.2f}\\tBest Score: {:.2f}'\n",
    "          .format(i_episode, episode_score, average_score, best_avg_score), end='')\n",
    " \n",
    "    if i_episode % print_every == 0:\n",
    "        print('\\rEpisode {}\\tMax Score: {:.2f}\\tAverage Score: {:.2f}\\tBest Score: {:.2f}'\n",
    "              .format(i_episode, episode_score, average_score, best_avg_score))\n",
    "            \n",
    "    if average_score > best_avg_score:\n",
    "        best_avg_score = average_score\n",
    "        # Save trained weights for both agents if average_score is better than the best_avg_score\n",
    "        agent_1.save(MODEL_DIR, 1)\n",
    "        agent_2.save(MODEL_DIR, 2)\n",
    "\n",
    "    # stop training if target score is reached\n",
    "    if average_score >= TARGET_SCORE:\n",
    "        print('\\nEnvironment solved in {:d} episodes!\\tAverage Score: {:.2f}'.format(i_episode, average_score))\n",
    "        break\n"
   ]
  },
  {
   "cell_type": "code",
   "execution_count": null,
   "metadata": {},
   "outputs": [],
   "source": [
    "# plot the scores\n",
    "fig = plt.figure(figsize=(20,10))\n",
    "ax = fig.add_subplot(111)\n",
    "plt.plot(np.arange(len(scores)), scores)\n",
    "plt.plot(np.arange(len(avg_scores)), avg_scores, linestyle='--')\n",
    "plt.ylabel('Score')\n",
    "plt.xlabel('Episode #')\n",
    "plt.legend(('Score', 'Avg Score'), fontsize='xx-large')\n",
    "plt.show()"
   ]
  },
  {
   "cell_type": "markdown",
   "metadata": {},
   "source": [
    "When finished, you can close the environment."
   ]
  },
  {
   "cell_type": "code",
   "execution_count": 9,
   "metadata": {},
   "outputs": [],
   "source": [
    "env.close()"
   ]
  }
 ],
 "metadata": {
  "kernelspec": {
   "display_name": "Python 3",
   "language": "python",
   "name": "python3"
  },
  "language_info": {
   "codemirror_mode": {
    "name": "ipython",
    "version": 3
   },
   "file_extension": ".py",
   "mimetype": "text/x-python",
   "name": "python",
   "nbconvert_exporter": "python",
   "pygments_lexer": "ipython3",
   "version": "3.6.10"
  }
 },
 "nbformat": 4,
 "nbformat_minor": 2
}
